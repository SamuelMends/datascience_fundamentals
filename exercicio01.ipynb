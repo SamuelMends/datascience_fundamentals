{
 "cells": [
  {
   "cell_type": "code",
   "execution_count": null,
   "metadata": {},
   "outputs": [],
   "source": [
    "# Exercício 1 - Crie um objeto a partir da classe abaixo, chamado roc1, \n",
    "# passando 2 parâmetros e depois faça uma chamada aos atributos e métodos\n",
    "\n",
    "from math import sqrt\n",
    "\n",
    "class Rocket():\n",
    "     \n",
    "    def __init__(self, x=0, y=0):\n",
    "        self.x = x\n",
    "        self.y = y\n",
    "        \n",
    "    def move_rocket(self, x_increment=0, y_increment=1):\n",
    "        self.x += x_increment\n",
    "        self.y += y_increment\n",
    "        \n",
    "    def print_rocket(self):\n",
    "        print(self.x, self.y)\n",
    "        \n",
    "    def roc1(self, x**2, y**2):\n",
    "        self.x = x"
   ]
  }
 ],
 "metadata": {
  "language_info": {
   "name": "python"
  }
 },
 "nbformat": 4,
 "nbformat_minor": 2
}
