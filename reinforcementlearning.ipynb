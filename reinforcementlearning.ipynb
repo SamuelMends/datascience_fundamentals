{
 "cells": [
  {
   "cell_type": "code",
   "execution_count": 1,
   "metadata": {},
   "outputs": [
    {
     "name": "stdout",
     "output_type": "stream",
     "text": [
      "Python version used on this Jupyter Notebook: 3.12.3\n"
     ]
    }
   ],
   "source": [
    "from platform import python_version\n",
    "python = python_version()\n",
    "print(f'Python version used on this Jupyter Notebook: {python}')"
   ]
  },
  {
   "cell_type": "code",
   "execution_count": 2,
   "metadata": {},
   "outputs": [],
   "source": [
    "# Instala o pacote \n",
    "!pip install -q plotly"
   ]
  },
  {
   "cell_type": "code",
   "execution_count": 3,
   "metadata": {},
   "outputs": [],
   "source": [
    "# Imports\n",
    "import random\n",
    "import plotly.graph_objects as go\n",
    "import pandas as pd\n",
    "import numpy as np\n",
    "from datetime import datetime"
   ]
  },
  {
   "cell_type": "markdown",
   "metadata": {},
   "source": [
    "## Carregando e Visualizando os Dados com Candlestick"
   ]
  },
  {
   "cell_type": "code",
   "execution_count": 5,
   "metadata": {},
   "outputs": [],
   "source": [
    "data = pd.read_csv('datasetreilearn.csv')"
   ]
  },
  {
   "cell_type": "code",
   "execution_count": 6,
   "metadata": {},
   "outputs": [
    {
     "data": {
      "text/plain": [
       "(506, 11)"
      ]
     },
     "execution_count": 6,
     "metadata": {},
     "output_type": "execute_result"
    }
   ],
   "source": [
    "data.shape"
   ]
  },
  {
   "cell_type": "code",
   "execution_count": 7,
   "metadata": {},
   "outputs": [
    {
     "data": {
      "text/html": [
       "<div>\n",
       "<style scoped>\n",
       "    .dataframe tbody tr th:only-of-type {\n",
       "        vertical-align: middle;\n",
       "    }\n",
       "\n",
       "    .dataframe tbody tr th {\n",
       "        vertical-align: top;\n",
       "    }\n",
       "\n",
       "    .dataframe thead th {\n",
       "        text-align: right;\n",
       "    }\n",
       "</style>\n",
       "<table border=\"1\" class=\"dataframe\">\n",
       "  <thead>\n",
       "    <tr style=\"text-align: right;\">\n",
       "      <th></th>\n",
       "      <th>Date</th>\n",
       "      <th>AAPL.Open</th>\n",
       "      <th>AAPL.High</th>\n",
       "      <th>AAPL.Low</th>\n",
       "      <th>AAPL.Close</th>\n",
       "      <th>AAPL.Volume</th>\n",
       "      <th>AAPL.Adjusted</th>\n",
       "      <th>dn</th>\n",
       "      <th>mavg</th>\n",
       "      <th>up</th>\n",
       "      <th>direction</th>\n",
       "    </tr>\n",
       "  </thead>\n",
       "  <tbody>\n",
       "    <tr>\n",
       "      <th>0</th>\n",
       "      <td>2015-02-17</td>\n",
       "      <td>127.489998</td>\n",
       "      <td>128.880005</td>\n",
       "      <td>126.919998</td>\n",
       "      <td>127.830002</td>\n",
       "      <td>63152400</td>\n",
       "      <td>122.905254</td>\n",
       "      <td>106.741052</td>\n",
       "      <td>117.927667</td>\n",
       "      <td>129.114281</td>\n",
       "      <td>Increasing</td>\n",
       "    </tr>\n",
       "    <tr>\n",
       "      <th>1</th>\n",
       "      <td>2015-02-18</td>\n",
       "      <td>127.629997</td>\n",
       "      <td>128.779999</td>\n",
       "      <td>127.449997</td>\n",
       "      <td>128.720001</td>\n",
       "      <td>44891700</td>\n",
       "      <td>123.760965</td>\n",
       "      <td>107.842423</td>\n",
       "      <td>118.940333</td>\n",
       "      <td>130.038244</td>\n",
       "      <td>Increasing</td>\n",
       "    </tr>\n",
       "    <tr>\n",
       "      <th>2</th>\n",
       "      <td>2015-02-19</td>\n",
       "      <td>128.479996</td>\n",
       "      <td>129.029999</td>\n",
       "      <td>128.330002</td>\n",
       "      <td>128.449997</td>\n",
       "      <td>37362400</td>\n",
       "      <td>123.501363</td>\n",
       "      <td>108.894245</td>\n",
       "      <td>119.889167</td>\n",
       "      <td>130.884089</td>\n",
       "      <td>Decreasing</td>\n",
       "    </tr>\n",
       "    <tr>\n",
       "      <th>3</th>\n",
       "      <td>2015-02-20</td>\n",
       "      <td>128.619995</td>\n",
       "      <td>129.500000</td>\n",
       "      <td>128.050003</td>\n",
       "      <td>129.500000</td>\n",
       "      <td>48948400</td>\n",
       "      <td>124.510914</td>\n",
       "      <td>109.785449</td>\n",
       "      <td>120.763500</td>\n",
       "      <td>131.741551</td>\n",
       "      <td>Increasing</td>\n",
       "    </tr>\n",
       "    <tr>\n",
       "      <th>4</th>\n",
       "      <td>2015-02-23</td>\n",
       "      <td>130.020004</td>\n",
       "      <td>133.000000</td>\n",
       "      <td>129.660004</td>\n",
       "      <td>133.000000</td>\n",
       "      <td>70974100</td>\n",
       "      <td>127.876074</td>\n",
       "      <td>110.372516</td>\n",
       "      <td>121.720167</td>\n",
       "      <td>133.067817</td>\n",
       "      <td>Increasing</td>\n",
       "    </tr>\n",
       "  </tbody>\n",
       "</table>\n",
       "</div>"
      ],
      "text/plain": [
       "         Date   AAPL.Open   AAPL.High    AAPL.Low  AAPL.Close  AAPL.Volume  \\\n",
       "0  2015-02-17  127.489998  128.880005  126.919998  127.830002     63152400   \n",
       "1  2015-02-18  127.629997  128.779999  127.449997  128.720001     44891700   \n",
       "2  2015-02-19  128.479996  129.029999  128.330002  128.449997     37362400   \n",
       "3  2015-02-20  128.619995  129.500000  128.050003  129.500000     48948400   \n",
       "4  2015-02-23  130.020004  133.000000  129.660004  133.000000     70974100   \n",
       "\n",
       "   AAPL.Adjusted          dn        mavg          up   direction  \n",
       "0     122.905254  106.741052  117.927667  129.114281  Increasing  \n",
       "1     123.760965  107.842423  118.940333  130.038244  Increasing  \n",
       "2     123.501363  108.894245  119.889167  130.884089  Decreasing  \n",
       "3     124.510914  109.785449  120.763500  131.741551  Increasing  \n",
       "4     127.876074  110.372516  121.720167  133.067817  Increasing  "
      ]
     },
     "execution_count": 7,
     "metadata": {},
     "output_type": "execute_result"
    }
   ],
   "source": [
    "data.head()"
   ]
  }
 ],
 "metadata": {
  "kernelspec": {
   "display_name": "Python 3",
   "language": "python",
   "name": "python3"
  },
  "language_info": {
   "codemirror_mode": {
    "name": "ipython",
    "version": 3
   },
   "file_extension": ".py",
   "mimetype": "text/x-python",
   "name": "python",
   "nbconvert_exporter": "python",
   "pygments_lexer": "ipython3",
   "version": "3.12.3"
  }
 },
 "nbformat": 4,
 "nbformat_minor": 2
}
